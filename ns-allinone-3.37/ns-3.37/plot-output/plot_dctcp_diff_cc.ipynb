{
 "cells": [
  {
   "attachments": {},
   "cell_type": "markdown",
   "metadata": {},
   "source": [
    "S1->R1: 10 flows\n",
    "S3->R1: 10 flows\n",
    "S2->R2: 20 flows"
   ]
  },
  {
   "attachments": {},
   "cell_type": "markdown",
   "metadata": {},
   "source": [
    "Jain's fairness"
   ]
  },
  {
   "cell_type": "code",
   "execution_count": null,
   "metadata": {},
   "outputs": [],
   "source": [
    "def cal_fairness(data):\n",
    "    fairness = []\n",
    "    for s in data:\n",
    "        x1_sq = s[0]**2\n",
    "        x2_sq = s[4]**2\n",
    "        fairness.append(((s[0]+s[4])**2)/(2*(x1_sq+x2_sq)))\n",
    "    print(fairness)"
   ]
  },
  {
   "cell_type": "code",
   "execution_count": 2,
   "metadata": {},
   "outputs": [
    {
     "name": "stdout",
     "output_type": "stream",
     "text": [
      "[0.7975752134493995, 0.9863299600902428, 0.9983095216945128, 0.9168700196071489]\n"
     ]
    }
   ],
   "source": [
    "# S1R1_thr, S1R1_fair, S2R2_thr, S2R2_fair, S3R1_thr, S3R1_fair, T1_thr, R1_thr\n",
    "dctcp_red = [23.92, 0.996, 469.91, 1.000, 72.49, 0.998, 9.637, 0.964]\n",
    "dctcp_pifo = [42.53, 0.998, 460.60, 1.000, 53.88, 1.000, 9.637, 0.964]\n",
    "dctcp_sppifo = [38.68, 0.598, 397.72, 0.889, 42.00, 0.640, 8.341, 0.807]\n",
    "dctcp_afq = [33.69, 0.958, 465.00, 1.000, 62.72, 1.000, 9.637, 0.964]\n",
    "dctcp = [dctcp_red, dctcp_pifo, dctcp_sppifo, dctcp_afq]\n",
    "cal_fairness(dctcp)"
   ]
  },
  {
   "cell_type": "code",
   "execution_count": null,
   "metadata": {},
   "outputs": [],
   "source": [
    "reno_fifo = [45.02, 1.000, 451.99, 1.000, 49.86, 1.000, 9.490, 0.949]\n",
    "reno_pifo = [45.82, 0.885, 451.53, 1.000, 49.07, 0.938, 9.489, 0.949]\n",
    "reno_sppifo = [45.74, 0.999, 450.71, 0.999, 48.33, 0.999, 9.472, 0.941]\n",
    "reno_afq = []\n",
    "reno = [reno_fifo, reno_pifo, reno_sppifo, reno_afq]\n",
    "cal_fairness(reno)"
   ]
  },
  {
   "cell_type": "code",
   "execution_count": null,
   "metadata": {},
   "outputs": [],
   "source": [
    "import matplotlib.pyplot as plt\n",
    "\n",
    "name_list = ['DCTCP', 'TCP NewReno', 'TCP Cubic', 'TCP BBR']\n",
    "red = [0.7975752134493995]\n",
    "pifo = [0.9863299600902428]\n",
    "afq = [0.9983095216945128]\n",
    "sppifo = [0.9168700196071489]\n",
    "x = list(range(len(red)))\n",
    "total_width, n = 0.4, 4\n",
    "width = total_width / n\n",
    "\n",
    "schedulers = [red, pifo, afq, sppifo]\n",
    "labels = [\"FIFO\", \"PIFO\", \"PCQ\", \"SPPIFO\"]\n",
    "for s, l in zip(schedulers, labels):\n",
    "    plt.bar(x, s, width=width, label=l)\n",
    "    for i in range(len(x)):\n",
    "        x[i] = x[i] + width\n",
    "plt.legend()\n",
    "plt.show()"
   ]
  },
  {
   "cell_type": "code",
   "execution_count": null,
   "metadata": {},
   "outputs": [],
   "source": [
    "# dctcp, newreno, bbr, cubic\n",
    "red = []\n",
    "pifo = []\n",
    "sppifo = []\n",
    "afq = []"
   ]
  }
 ],
 "metadata": {
  "kernelspec": {
   "display_name": "jiajin",
   "language": "python",
   "name": "python3"
  },
  "language_info": {
   "codemirror_mode": {
    "name": "ipython",
    "version": 3
   },
   "file_extension": ".py",
   "mimetype": "text/x-python",
   "name": "python",
   "nbconvert_exporter": "python",
   "pygments_lexer": "ipython3",
   "version": "3.10.6"
  },
  "orig_nbformat": 4
 },
 "nbformat": 4,
 "nbformat_minor": 2
}
