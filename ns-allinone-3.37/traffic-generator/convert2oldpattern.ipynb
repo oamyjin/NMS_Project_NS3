{
 "cells": [
  {
   "cell_type": "code",
   "execution_count": 1,
   "metadata": {},
   "outputs": [],
   "source": [
    "ifile = open(\"traffic_443.txt\", \"r\")\n",
    "ofile = open(\"traffic_443_old.txt\", \"w\")\n",
    "for line in ifile.readlines():\n",
    "    if len(line.split()) <= 1:\n",
    "        ofile.write(line)\n",
    "    else:\n",
    "        new_line = \"\"\n",
    "        i = 1\n",
    "        for v in line.split():\n",
    "            if i != 2:\n",
    "                new_line += v + \" \"\n",
    "            i += 1\n",
    "        new_line += \"\\n\"\n",
    "        ofile.write(new_line)\n",
    "ofile.close()\n",
    "ifile.close()"
   ]
  }
 ],
 "metadata": {
  "kernelspec": {
   "display_name": "jiajin",
   "language": "python",
   "name": "python3"
  },
  "language_info": {
   "codemirror_mode": {
    "name": "ipython",
    "version": 3
   },
   "file_extension": ".py",
   "mimetype": "text/x-python",
   "name": "python",
   "nbconvert_exporter": "python",
   "pygments_lexer": "ipython3",
   "version": "3.10.6"
  },
  "orig_nbformat": 4
 },
 "nbformat": 4,
 "nbformat_minor": 2
}
